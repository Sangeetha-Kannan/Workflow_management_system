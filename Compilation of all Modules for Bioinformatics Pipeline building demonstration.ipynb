{
 "cells": [
  {
   "cell_type": "markdown",
   "id": "17723c11",
   "metadata": {},
   "source": [
    "# Module1: Downloading a dataset from GEO (Gene Expression Omnibus) database"
   ]
  },
  {
   "cell_type": "markdown",
   "id": "12d35ee7",
   "metadata": {},
   "source": [
    "### Step 1: Setup and Imports"
   ]
  },
  {
   "cell_type": "markdown",
   "id": "f2b1ba55",
   "metadata": {},
   "source": [
    "#### Import Required Libraries\n",
    "\n",
    "First, we need to import the necessary libraries for downloading and handling the data.\n",
    "\n",
    "- `requests`: To download data from the web.\n",
    "- `pandas`: To handle data in a DataFrame.\n",
    "- `os`: To handle directory operations."
   ]
  },
  {
   "cell_type": "code",
   "execution_count": 5,
   "id": "036a8ddd",
   "metadata": {},
   "outputs": [],
   "source": [
    "# Step 1: Import Required Libraries\n",
    "import requests\n",
    "import pandas as pd\n",
    "import os"
   ]
  },
  {
   "cell_type": "markdown",
   "id": "b4777409",
   "metadata": {},
   "source": [
    "### Step 2: Define the Download Function"
   ]
  },
  {
   "cell_type": "markdown",
   "id": "6b5f2804",
   "metadata": {},
   "source": [
    "#### Define the Download Function\n",
    "\n",
    "Next, we'll define a function `download_geo_data` that will handle downloading the GEO dataset. \n",
    "\n",
    "- The function takes two arguments: `geo_id` and `output_path`.\n",
    "- It constructs the URL based on the provided `geo_id`.\n",
    "- It then makes a GET request to download the data.\n",
    "- If the request is successful, it saves the downloaded file to the specified `output_path`.\n"
   ]
  },
  {
   "cell_type": "code",
   "execution_count": 2,
   "id": "6bc9060b",
   "metadata": {},
   "outputs": [],
   "source": [
    "def download_geo_data(geo_id, output_path):\n",
    "    url = f\"https://ftp.ncbi.nlm.nih.gov/geo/series/{geo_id[:-3]}nnn/{geo_id}/matrix/{geo_id}_series_matrix.txt.gz\"\n",
    "    response = requests.get(url)\n",
    "    \n",
    "    if response.status_code == 200:\n",
    "        with open(f\"{output_path}/{geo_id}_series_matrix.txt.gz\", 'wb') as f:\n",
    "            f.write(response.content)\n",
    "        print(f\"Data downloaded and saved to {output_path}\")\n",
    "    else:\n",
    "        print(\"Failed to download data\")"
   ]
  },
  {
   "cell_type": "markdown",
   "id": "2359064c",
   "metadata": {},
   "source": [
    "### Step 3: Set Variables and Create Directory"
   ]
  },
  {
   "cell_type": "markdown",
   "id": "988b0fae",
   "metadata": {},
   "source": [
    "#### Set Variables and Create Directory\n",
    "\n",
    "- Define the GEO Series ID (`geo_id`) and the path where the data will be saved (`output_path`).\n",
    "- Ensure the output directory exists using `os.makedirs`.\n"
   ]
  },
  {
   "cell_type": "code",
   "execution_count": 6,
   "id": "0bd829f1",
   "metadata": {},
   "outputs": [],
   "source": [
    "# GSE10072 contains gene expression data related to the response of colorectal cancer cells to different anti-cancer drug treatments\n",
    "# This dataset includes gene expression profiles of colorectal cancer cells (HCT116) treated with various compounds, including 5-fluorouracil (5-FU), oxaliplatin, and SN-38 (the active metabolite of irinotecan)\n",
    "geo_id = \"GSE10072\"  # Example GEO Series ID\n",
    "output_path = \"data\"\n",
    "\n",
    "# Create the directory if it doesn't exist\n",
    "os.makedirs(output_path, exist_ok=True)"
   ]
  },
  {
   "cell_type": "markdown",
   "id": "197fafb6",
   "metadata": {},
   "source": [
    "### Step 4: Download the Data"
   ]
  },
  {
   "cell_type": "markdown",
   "id": "ee985376",
   "metadata": {},
   "source": [
    "#### Download the Data\n",
    "\n",
    "- Call the `download_geo_data` function with the defined `geo_id` and `output_path`.\n"
   ]
  },
  {
   "cell_type": "code",
   "execution_count": 7,
   "id": "48778808",
   "metadata": {},
   "outputs": [
    {
     "name": "stdout",
     "output_type": "stream",
     "text": [
      "Data downloaded and saved to data\n"
     ]
    }
   ],
   "source": [
    "download_geo_data(geo_id, output_path)"
   ]
  },
  {
   "cell_type": "markdown",
   "id": "62681fc9",
   "metadata": {},
   "source": [
    "### Step 5: Load Data into a DataFrame"
   ]
  },
  {
   "cell_type": "markdown",
   "id": "0888684c",
   "metadata": {},
   "source": [
    "#### Load the Data into a pandas DataFrame\n",
    "\n",
    "- Define the path to the downloaded file.\n",
    "- Check if the file exists.\n",
    "- If the file exists, load the data into a pandas DataFrame."
   ]
  },
  {
   "cell_type": "code",
   "execution_count": 8,
   "id": "7d2164f0",
   "metadata": {},
   "outputs": [
    {
     "name": "stdout",
     "output_type": "stream",
     "text": [
      "Data loaded into DataFrame\n"
     ]
    }
   ],
   "source": [
    "file_path = os.path.join(output_path, f\"{geo_id}_series_matrix.txt.gz\")\n",
    "\n",
    "# Check if the file exists\n",
    "if os.path.exists(file_path):\n",
    "    df = pd.read_csv(file_path, sep='\\t', comment='!', compression='gzip', low_memory=False)\n",
    "    print(\"Data loaded into DataFrame\")\n",
    "else:\n",
    "    print(\"File not found\")"
   ]
  },
  {
   "cell_type": "markdown",
   "id": "95c69e33",
   "metadata": {},
   "source": [
    "### Step 6: Display the Data"
   ]
  },
  {
   "cell_type": "markdown",
   "id": "c8ba7604",
   "metadata": {},
   "source": [
    "#### Display the Data\n",
    "\n",
    "- Display the first few rows of the DataFrame to ensure the data has been loaded correctly."
   ]
  },
  {
   "cell_type": "code",
   "execution_count": 9,
   "id": "7eeed564",
   "metadata": {},
   "outputs": [
    {
     "data": {
      "text/html": [
       "<div>\n",
       "<style scoped>\n",
       "    .dataframe tbody tr th:only-of-type {\n",
       "        vertical-align: middle;\n",
       "    }\n",
       "\n",
       "    .dataframe tbody tr th {\n",
       "        vertical-align: top;\n",
       "    }\n",
       "\n",
       "    .dataframe thead th {\n",
       "        text-align: right;\n",
       "    }\n",
       "</style>\n",
       "<table border=\"1\" class=\"dataframe\">\n",
       "  <thead>\n",
       "    <tr style=\"text-align: right;\">\n",
       "      <th></th>\n",
       "      <th>ID_REF</th>\n",
       "      <th>GSM254625</th>\n",
       "      <th>GSM254626</th>\n",
       "      <th>GSM254627</th>\n",
       "      <th>GSM254628</th>\n",
       "      <th>GSM254629</th>\n",
       "      <th>GSM254630</th>\n",
       "      <th>GSM254631</th>\n",
       "      <th>GSM254632</th>\n",
       "      <th>GSM254633</th>\n",
       "      <th>...</th>\n",
       "      <th>GSM254722</th>\n",
       "      <th>GSM254723</th>\n",
       "      <th>GSM254724</th>\n",
       "      <th>GSM254725</th>\n",
       "      <th>GSM254726</th>\n",
       "      <th>GSM254727</th>\n",
       "      <th>GSM254728</th>\n",
       "      <th>GSM254729</th>\n",
       "      <th>GSM254730</th>\n",
       "      <th>GSM254731</th>\n",
       "    </tr>\n",
       "  </thead>\n",
       "  <tbody>\n",
       "    <tr>\n",
       "      <th>0</th>\n",
       "      <td>1007_s_at</td>\n",
       "      <td>10.927084</td>\n",
       "      <td>10.416978</td>\n",
       "      <td>10.628538</td>\n",
       "      <td>10.151180</td>\n",
       "      <td>10.988512</td>\n",
       "      <td>10.778205</td>\n",
       "      <td>10.568814</td>\n",
       "      <td>10.479425</td>\n",
       "      <td>10.548843</td>\n",
       "      <td>...</td>\n",
       "      <td>10.727493</td>\n",
       "      <td>10.740353</td>\n",
       "      <td>10.527962</td>\n",
       "      <td>10.193615</td>\n",
       "      <td>10.768815</td>\n",
       "      <td>10.467693</td>\n",
       "      <td>10.902778</td>\n",
       "      <td>10.869402</td>\n",
       "      <td>10.292285</td>\n",
       "      <td>10.407218</td>\n",
       "    </tr>\n",
       "    <tr>\n",
       "      <th>1</th>\n",
       "      <td>1053_at</td>\n",
       "      <td>6.895217</td>\n",
       "      <td>6.924856</td>\n",
       "      <td>7.550245</td>\n",
       "      <td>6.699557</td>\n",
       "      <td>6.826031</td>\n",
       "      <td>6.718372</td>\n",
       "      <td>6.739765</td>\n",
       "      <td>6.724615</td>\n",
       "      <td>7.102475</td>\n",
       "      <td>...</td>\n",
       "      <td>6.856575</td>\n",
       "      <td>6.737879</td>\n",
       "      <td>6.959032</td>\n",
       "      <td>7.008578</td>\n",
       "      <td>6.740444</td>\n",
       "      <td>6.795750</td>\n",
       "      <td>6.838162</td>\n",
       "      <td>6.628363</td>\n",
       "      <td>6.794050</td>\n",
       "      <td>6.358410</td>\n",
       "    </tr>\n",
       "    <tr>\n",
       "      <th>2</th>\n",
       "      <td>117_at</td>\n",
       "      <td>8.110190</td>\n",
       "      <td>7.760228</td>\n",
       "      <td>7.974676</td>\n",
       "      <td>7.712676</td>\n",
       "      <td>7.775592</td>\n",
       "      <td>7.777087</td>\n",
       "      <td>7.893210</td>\n",
       "      <td>8.058398</td>\n",
       "      <td>8.005438</td>\n",
       "      <td>...</td>\n",
       "      <td>7.741922</td>\n",
       "      <td>7.805107</td>\n",
       "      <td>8.093078</td>\n",
       "      <td>8.144760</td>\n",
       "      <td>8.159483</td>\n",
       "      <td>7.855457</td>\n",
       "      <td>8.010428</td>\n",
       "      <td>7.889019</td>\n",
       "      <td>8.163266</td>\n",
       "      <td>7.973844</td>\n",
       "    </tr>\n",
       "    <tr>\n",
       "      <th>3</th>\n",
       "      <td>121_at</td>\n",
       "      <td>9.451286</td>\n",
       "      <td>9.520943</td>\n",
       "      <td>9.807597</td>\n",
       "      <td>9.522087</td>\n",
       "      <td>9.855061</td>\n",
       "      <td>9.861055</td>\n",
       "      <td>10.126183</td>\n",
       "      <td>9.878970</td>\n",
       "      <td>10.110318</td>\n",
       "      <td>...</td>\n",
       "      <td>10.089149</td>\n",
       "      <td>10.007059</td>\n",
       "      <td>9.832610</td>\n",
       "      <td>10.107004</td>\n",
       "      <td>9.790645</td>\n",
       "      <td>9.645239</td>\n",
       "      <td>9.871851</td>\n",
       "      <td>9.867988</td>\n",
       "      <td>9.824801</td>\n",
       "      <td>9.850144</td>\n",
       "    </tr>\n",
       "    <tr>\n",
       "      <th>4</th>\n",
       "      <td>1255_g_at</td>\n",
       "      <td>4.814477</td>\n",
       "      <td>4.718640</td>\n",
       "      <td>4.905163</td>\n",
       "      <td>4.818076</td>\n",
       "      <td>4.823958</td>\n",
       "      <td>4.848313</td>\n",
       "      <td>5.125956</td>\n",
       "      <td>5.037979</td>\n",
       "      <td>4.889936</td>\n",
       "      <td>...</td>\n",
       "      <td>5.048391</td>\n",
       "      <td>4.758050</td>\n",
       "      <td>4.900470</td>\n",
       "      <td>4.948760</td>\n",
       "      <td>4.609322</td>\n",
       "      <td>4.759571</td>\n",
       "      <td>4.788774</td>\n",
       "      <td>4.967626</td>\n",
       "      <td>4.817474</td>\n",
       "      <td>5.128892</td>\n",
       "    </tr>\n",
       "  </tbody>\n",
       "</table>\n",
       "<p>5 rows × 108 columns</p>\n",
       "</div>"
      ],
      "text/plain": [
       "      ID_REF  GSM254625  GSM254626  GSM254627  GSM254628  GSM254629  \\\n",
       "0  1007_s_at  10.927084  10.416978  10.628538  10.151180  10.988512   \n",
       "1    1053_at   6.895217   6.924856   7.550245   6.699557   6.826031   \n",
       "2     117_at   8.110190   7.760228   7.974676   7.712676   7.775592   \n",
       "3     121_at   9.451286   9.520943   9.807597   9.522087   9.855061   \n",
       "4  1255_g_at   4.814477   4.718640   4.905163   4.818076   4.823958   \n",
       "\n",
       "   GSM254630  GSM254631  GSM254632  GSM254633  ...  GSM254722  GSM254723  \\\n",
       "0  10.778205  10.568814  10.479425  10.548843  ...  10.727493  10.740353   \n",
       "1   6.718372   6.739765   6.724615   7.102475  ...   6.856575   6.737879   \n",
       "2   7.777087   7.893210   8.058398   8.005438  ...   7.741922   7.805107   \n",
       "3   9.861055  10.126183   9.878970  10.110318  ...  10.089149  10.007059   \n",
       "4   4.848313   5.125956   5.037979   4.889936  ...   5.048391   4.758050   \n",
       "\n",
       "   GSM254724  GSM254725  GSM254726  GSM254727  GSM254728  GSM254729  \\\n",
       "0  10.527962  10.193615  10.768815  10.467693  10.902778  10.869402   \n",
       "1   6.959032   7.008578   6.740444   6.795750   6.838162   6.628363   \n",
       "2   8.093078   8.144760   8.159483   7.855457   8.010428   7.889019   \n",
       "3   9.832610  10.107004   9.790645   9.645239   9.871851   9.867988   \n",
       "4   4.900470   4.948760   4.609322   4.759571   4.788774   4.967626   \n",
       "\n",
       "   GSM254730  GSM254731  \n",
       "0  10.292285  10.407218  \n",
       "1   6.794050   6.358410  \n",
       "2   8.163266   7.973844  \n",
       "3   9.824801   9.850144  \n",
       "4   4.817474   5.128892  \n",
       "\n",
       "[5 rows x 108 columns]"
      ]
     },
     "execution_count": 9,
     "metadata": {},
     "output_type": "execute_result"
    }
   ],
   "source": [
    "df.head()"
   ]
  },
  {
   "cell_type": "markdown",
   "id": "8b8b059c",
   "metadata": {},
   "source": [
    "# Module 2: Data Preprocessing -  compute the average expression level of each gene across the samples"
   ]
  },
  {
   "cell_type": "markdown",
   "id": "15e20b64",
   "metadata": {},
   "source": [
    "### Step 1: Import Required Libraries"
   ]
  },
  {
   "cell_type": "markdown",
   "id": "799f4367",
   "metadata": {},
   "source": [
    "#### Import the necessary libraries for data processing.\n",
    "\n",
    "- `numpy`: To perform numerical operations."
   ]
  },
  {
   "cell_type": "code",
   "execution_count": 24,
   "id": "7d21915b",
   "metadata": {},
   "outputs": [],
   "source": [
    "import pandas as pd\n",
    "import os"
   ]
  },
  {
   "cell_type": "markdown",
   "id": "ca870289",
   "metadata": {},
   "source": [
    "### Step 2: Define the Normalization Function"
   ]
  },
  {
   "cell_type": "markdown",
   "id": "9407d57c",
   "metadata": {},
   "source": [
    "####  Define the Average Calculation Function\n",
    "\n",
    "Define a function `calculate_average_expression` to compute the average expression level for each gene.\n",
    "\n",
    "- The function takes a DataFrame as input and returns a DataFrame with the average expression levels."
   ]
  },
  {
   "cell_type": "code",
   "execution_count": 25,
   "id": "2ef5d6d7",
   "metadata": {},
   "outputs": [],
   "source": [
    "def calculate_average_expression(df):\n",
    "    expression_columns = df.columns[1:]  # Assuming the first column is not expression data\n",
    "    df[expression_columns] = df[expression_columns].apply(pd.to_numeric, errors='coerce')\n",
    "    df['average_expression'] = df[expression_columns].mean(axis=1)\n",
    "    return df[['ID_REF', 'average_expression']]"
   ]
  },
  {
   "cell_type": "markdown",
   "id": "c107d466",
   "metadata": {},
   "source": [
    "### Step 3: Calculate the average function"
   ]
  },
  {
   "cell_type": "markdown",
   "id": "5e2c408a",
   "metadata": {},
   "source": [
    "#### Calculate the average function\n",
    "\n",
    "Use the `calculate_average_expression` function to compute the average expression levels."
   ]
  },
  {
   "cell_type": "code",
   "execution_count": 26,
   "id": "e2f3c409",
   "metadata": {},
   "outputs": [],
   "source": [
    "df_avg_expression = calculate_average_expression(df.copy())"
   ]
  },
  {
   "cell_type": "markdown",
   "id": "69a08b56",
   "metadata": {},
   "source": [
    "### Step 4: Save the Average Expression Data"
   ]
  },
  {
   "cell_type": "markdown",
   "id": "ae75dc06",
   "metadata": {},
   "source": [
    "### Save the Average Expression data\n",
    "\n",
    "Save the average expression data to a new file for future use"
   ]
  },
  {
   "cell_type": "code",
   "execution_count": 27,
   "id": "88f94d18",
   "metadata": {},
   "outputs": [
    {
     "name": "stdout",
     "output_type": "stream",
     "text": [
      "Average expression data saved to data\\GSE10072_average_expression.csv\n"
     ]
    }
   ],
   "source": [
    "avg_expression_file_path = os.path.join(output_path, f\"{geo_id}_average_expression.csv\")\n",
    "df_avg_expression.to_csv(avg_expression_file_path, index=False)\n",
    "print(f\"Average expression data saved to {avg_expression_file_path}\")"
   ]
  },
  {
   "cell_type": "markdown",
   "id": "3fbec4f9",
   "metadata": {},
   "source": [
    "### Step 5: Display the Average Expression  Data"
   ]
  },
  {
   "cell_type": "markdown",
   "id": "7cf5b467",
   "metadata": {},
   "source": [
    "#### Display the Average Expression Data\n",
    "\n",
    "Display the first few rows of the average expression DataFrame to ensure the calculation is correct.\n",
    "\n"
   ]
  },
  {
   "cell_type": "code",
   "execution_count": 29,
   "id": "3c4573b9",
   "metadata": {},
   "outputs": [
    {
     "data": {
      "text/html": [
       "<div>\n",
       "<style scoped>\n",
       "    .dataframe tbody tr th:only-of-type {\n",
       "        vertical-align: middle;\n",
       "    }\n",
       "\n",
       "    .dataframe tbody tr th {\n",
       "        vertical-align: top;\n",
       "    }\n",
       "\n",
       "    .dataframe thead th {\n",
       "        text-align: right;\n",
       "    }\n",
       "</style>\n",
       "<table border=\"1\" class=\"dataframe\">\n",
       "  <thead>\n",
       "    <tr style=\"text-align: right;\">\n",
       "      <th></th>\n",
       "      <th>ID_REF</th>\n",
       "      <th>average_expression</th>\n",
       "    </tr>\n",
       "  </thead>\n",
       "  <tbody>\n",
       "    <tr>\n",
       "      <th>0</th>\n",
       "      <td>1007_s_at</td>\n",
       "      <td>10.560596</td>\n",
       "    </tr>\n",
       "    <tr>\n",
       "      <th>1</th>\n",
       "      <td>1053_at</td>\n",
       "      <td>6.872995</td>\n",
       "    </tr>\n",
       "    <tr>\n",
       "      <th>2</th>\n",
       "      <td>117_at</td>\n",
       "      <td>8.012540</td>\n",
       "    </tr>\n",
       "    <tr>\n",
       "      <th>3</th>\n",
       "      <td>121_at</td>\n",
       "      <td>9.871100</td>\n",
       "    </tr>\n",
       "    <tr>\n",
       "      <th>4</th>\n",
       "      <td>1255_g_at</td>\n",
       "      <td>4.892962</td>\n",
       "    </tr>\n",
       "  </tbody>\n",
       "</table>\n",
       "</div>"
      ],
      "text/plain": [
       "      ID_REF  average_expression\n",
       "0  1007_s_at           10.560596\n",
       "1    1053_at            6.872995\n",
       "2     117_at            8.012540\n",
       "3     121_at            9.871100\n",
       "4  1255_g_at            4.892962"
      ]
     },
     "execution_count": 29,
     "metadata": {},
     "output_type": "execute_result"
    }
   ],
   "source": [
    "df_avg_expression.head()"
   ]
  },
  {
   "cell_type": "markdown",
   "id": "c85cdc31",
   "metadata": {},
   "source": [
    "# Module 3: Data Visualization"
   ]
  },
  {
   "cell_type": "markdown",
   "id": "6905bb9a",
   "metadata": {},
   "source": [
    "### Step 1: Import Required Libraries\n",
    "\n",
    "Import the necessary libraries for data visualization.\n",
    "\n",
    "- `matplotlib` and `seaborn`: For creating plots and visualizations."
   ]
  },
  {
   "cell_type": "code",
   "execution_count": 20,
   "id": "1b781426",
   "metadata": {},
   "outputs": [],
   "source": [
    "import matplotlib.pyplot as plt\n",
    "import seaborn as sns"
   ]
  },
  {
   "cell_type": "markdown",
   "id": "694caaa8",
   "metadata": {},
   "source": [
    "### Step 2: Load the  Average expression data"
   ]
  },
  {
   "cell_type": "markdown",
   "id": "0f0cc9ef",
   "metadata": {},
   "source": [
    "Load the normalized gene expression data from the previously saved file.Load the average expression data from the previously saved file."
   ]
  },
  {
   "cell_type": "code",
   "execution_count": 30,
   "id": "e36b2c76",
   "metadata": {},
   "outputs": [],
   "source": [
    "avg_expression_file_path = os.path.join(output_path, f\"{geo_id}_average_expression.csv\")\n",
    "df_avg_expression = pd.read_csv(avg_expression_file_path)"
   ]
  },
  {
   "cell_type": "markdown",
   "id": "36c73d34",
   "metadata": {},
   "source": [
    "### Step 3: Create a Bar Plot"
   ]
  },
  {
   "cell_type": "markdown",
   "id": "136a63be",
   "metadata": {},
   "source": [
    "Create a heatmap to visualize the average gene expression levels of the top 20 genes with the highest average expression.\n",
    "- Use `seaborn.heatmap` to create the heatmap."
   ]
  },
  {
   "cell_type": "code",
   "execution_count": 35,
   "id": "e87a56b1",
   "metadata": {},
   "outputs": [
    {
     "data": {
      "image/png": "[encoded data removed]",
      "text/plain": [
       "<Figure size 1000x400 with 1 Axes>"
      ]
     },
     "metadata": {},
     "output_type": "display_data"
    }
   ],
   "source": [
    "top_genes = df_avg_expression.nlargest(20, 'average_expression')\n",
    "\n",
    "plt.figure(figsize=(10, 4))\n",
    "sns.barplot(x='average_expression', y='ID_REF', data=top_genes, palette='viridis')\n",
    "plt.title('Top 20 Genes with Highest Average Expression')\n",
    "plt.xlabel('Average Expression Level')\n",
    "plt.ylabel('Gene')\n",
    "plt.show()"
   ]
  },
  {
   "cell_type": "markdown",
   "id": "efee3180",
   "metadata": {},
   "source": [
    "### Step 4:  Save the Bar Plot\n",
    "\n",
    "Save the Bar plot to a file."
   ]
  },
  {
   "cell_type": "code",
   "execution_count": 36,
   "id": "fefcf93c",
   "metadata": {},
   "outputs": [
    {
     "name": "stdout",
     "output_type": "stream",
     "text": [
      "Bar plot saved to data\\barplot_average_expression.png\n"
     ]
    },
    {
     "data": {
      "text/plain": [
       "<Figure size 640x480 with 0 Axes>"
      ]
     },
     "metadata": {},
     "output_type": "display_data"
    }
   ],
   "source": [
    "barplot_file_path = os.path.join(output_path, 'barplot_average_expression.png')\n",
    "plt.savefig(barplot_file_path)\n",
    "print(f\"Bar plot saved to {barplot_file_path}\")"
   ]
  }
 ],
 "metadata": {
  "kernelspec": {
   "display_name": "Python 3 (ipykernel)",
   "language": "python",
   "name": "python3"
  },
  "language_info": {
   "codemirror_mode": {
    "name": "ipython",
    "version": 3
   },
   "file_extension": ".py",
   "mimetype": "text/x-python",
   "name": "python",
   "nbconvert_exporter": "python",
   "pygments_lexer": "ipython3",
   "version": "3.10.9"
  }
 },
 "nbformat": 4,
 "nbformat_minor": 5
}
